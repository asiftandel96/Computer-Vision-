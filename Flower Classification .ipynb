{
 "cells": [
  {
   "cell_type": "markdown",
   "id": "58b1c0c2",
   "metadata": {},
   "source": [
    "# BUILDING A FLOWER Classification Model "
   ]
  },
  {
   "cell_type": "code",
   "execution_count": 157,
   "id": "91023701",
   "metadata": {},
   "outputs": [],
   "source": [
    "#Importing the necessary libraries\n",
    "import warnings\n",
    "warnings.filterwarnings('ignore')\n",
    "import numpy as np\n",
    "import matplotlib.pyplot as plt\n",
    "import seaborn as sns\n",
    "import tensorflow as tf # using tf version==1.14.0\n",
    "from keras.models import Sequential\n",
    "from keras.layers import Conv2D,MaxPooling2D,Flatten,Dense,Dropout,BatchNormalization\n",
    "from keras.preprocessing.image import ImageDataGenerator\n",
    "from keras.preprocessing import image"
   ]
  },
  {
   "cell_type": "code",
   "execution_count": 4,
   "id": "fb31683c",
   "metadata": {},
   "outputs": [],
   "source": [
    "#Images Path\n",
    "train_path='D:/flowers/train'"
   ]
  },
  {
   "cell_type": "code",
   "execution_count": 46,
   "id": "7dd63d60",
   "metadata": {},
   "outputs": [
    {
     "name": "stdout",
     "output_type": "stream",
     "text": [
      "Model: \"flower_lenet\"\n",
      "_________________________________________________________________\n",
      "Layer (type)                 Output Shape              Param #   \n",
      "=================================================================\n",
      "conv2d_19 (Conv2D)           (None, 28, 28, 6)         456       \n",
      "_________________________________________________________________\n",
      "max_pooling2d_19 (MaxPooling (None, 14, 14, 6)         0         \n",
      "_________________________________________________________________\n",
      "conv2d_20 (Conv2D)           (None, 13, 13, 16)        400       \n",
      "_________________________________________________________________\n",
      "max_pooling2d_20 (MaxPooling (None, 6, 6, 16)          0         \n",
      "_________________________________________________________________\n",
      "flatten_10 (Flatten)         (None, 576)               0         \n",
      "_________________________________________________________________\n",
      "dense_28 (Dense)             (None, 120)               69240     \n",
      "_________________________________________________________________\n",
      "dropout_5 (Dropout)          (None, 120)               0         \n",
      "_________________________________________________________________\n",
      "dense_29 (Dense)             (None, 84)                10164     \n",
      "_________________________________________________________________\n",
      "dropout_6 (Dropout)          (None, 84)                0         \n",
      "_________________________________________________________________\n",
      "dense_30 (Dense)             (None, 5)                 425       \n",
      "=================================================================\n",
      "Total params: 80,685\n",
      "Trainable params: 80,685\n",
      "Non-trainable params: 0\n",
      "_________________________________________________________________\n"
     ]
    }
   ],
   "source": [
    "#Starting with the Base Architecture(Lenet Architecture)\n",
    "\n",
    "model_lenet = Sequential(name='flower_lenet')\n",
    "# Select 6 feature convolution kernels with a size of 5 * 5 (without offset), and get 66 feature maps. The size of each feature map is 32−5 + 1 = 2832−5 + 1 = 28.\n",
    "# That is, the number of neurons has been reduced from 10241024 to 28 ∗ 28 = 784 28 ∗ 28 = 784.\n",
    "# Parameters between input layer and C1 layer: 6 ∗ (5 ∗ 5 + 1)\n",
    "model_lenet.add(Conv2D(6, kernel_size=(5, 5), activation='relu', input_shape=(32, 32, 3)))\n",
    "# The input of this layer is the output of the first layer, which is a 28 * 28 * 6 node matrix.\n",
    "# The size of the filter used in this layer is 2 * 2, and the step length and width are both 2, so the output matrix size of this layer is 14 * 14 * 6.\n",
    "model_lenet.add(MaxPooling2D(pool_size=(2, 2)))\n",
    "# The input matrix size of this layer is 14 * 14 * 6, the filter size used is 5 * 5, and the depth is 16. This layer does not use all 0 padding, and the step size is 1.\n",
    "# The output matrix size of this layer is 10 * 10 * 16. This layer has 5 * 5 * 6 * 16 + 16 = 2416 parameters\n",
    "model_lenet.add(Conv2D(16, kernel_size=(2, 2), activation='relu'))\n",
    "# The input matrix size of this layer is 10 * 10 * 16. The size of the filter used in this layer is 2 * 2, and the length and width steps are both 2, so the output matrix size of this layer is 5 * 5 * 16.\n",
    "model_lenet.add(MaxPooling2D(pool_size=(2, 2)))\n",
    "# The input matrix size of this layer is 5 * 5 * 16. This layer is called a convolution layer in the LeNet-5 paper, but because the size of the filter is 5 * 5, #\n",
    "# So it is not different from the fully connected layer. If the nodes in the 5 * 5 * 16 matrix are pulled into a vector, then this layer is the same as the fully connected layer.\n",
    "# The number of output nodes in this layer is 120, with a total of 5 * 5 * 16 * 120 + 120 = 48120 parameters.\n",
    "model_lenet.add(Flatten())\n",
    "model_lenet.add(Dense(120, activation='relu'))\n",
    "\n",
    "model_lenet.add(Dropout(0.3))\n",
    "# The number of input nodes in this layer is 120 and the number of output nodes is 84. The total parameter is 120 * 84 + 84 = 10164 (w + b)\n",
    "model_lenet.add(Dense(84, activation='relu'))\n",
    "\n",
    "model_lenet.add(Dropout(0.3))\n",
    "# The number of input nodes in this layer is 84 and the number of output nodes is 10. The total parameter is 84 * 10 + 10 = 850\n",
    "model_lenet.add(Dense(5, activation='softmax'))\n",
    "\n",
    "model_lenet.summary()"
   ]
  },
  {
   "cell_type": "code",
   "execution_count": 52,
   "id": "32f83f01",
   "metadata": {},
   "outputs": [
    {
     "name": "stdout",
     "output_type": "stream",
     "text": [
      "Found 3471 images belonging to 5 classes.\n",
      "Found 845 images belonging to 5 classes.\n",
      "Epoch 1/15\n",
      "500/500 [==============================] - 16s 31ms/step - loss: 0.1784 - accuracy: 0.9395 - val_loss: 1.5469 - val_accuracy: 0.5550\n",
      "Epoch 2/15\n",
      "500/500 [==============================] - 15s 31ms/step - loss: 0.1232 - accuracy: 0.9555 - val_loss: 6.9202 - val_accuracy: 0.5408\n",
      "Epoch 3/15\n",
      "500/500 [==============================] - 16s 32ms/step - loss: 0.1659 - accuracy: 0.9400 - val_loss: 1.5291 - val_accuracy: 0.5646\n",
      "Epoch 4/15\n",
      "500/500 [==============================] - 17s 34ms/step - loss: 0.1607 - accuracy: 0.9492 - val_loss: 3.4289 - val_accuracy: 0.5320\n",
      "Epoch 5/15\n",
      "500/500 [==============================] - 20s 41ms/step - loss: 0.1583 - accuracy: 0.9448 - val_loss: 3.3307 - val_accuracy: 0.5320\n",
      "Epoch 6/15\n",
      "500/500 [==============================] - 18s 37ms/step - loss: 0.1408 - accuracy: 0.9480 - val_loss: 4.1208 - val_accuracy: 0.5571\n",
      "Epoch 7/15\n",
      "500/500 [==============================] - 18s 35ms/step - loss: 0.1825 - accuracy: 0.9330 - val_loss: 3.2987 - val_accuracy: 0.5496\n",
      "Epoch 8/15\n",
      "500/500 [==============================] - 17s 34ms/step - loss: 0.1426 - accuracy: 0.9510 - val_loss: 1.1695 - val_accuracy: 0.5671\n",
      "Epoch 9/15\n",
      "500/500 [==============================] - 21s 41ms/step - loss: 0.1367 - accuracy: 0.9557 - val_loss: 0.4205 - val_accuracy: 0.5270\n",
      "Epoch 10/15\n",
      "500/500 [==============================] - 29s 58ms/step - loss: 0.1366 - accuracy: 0.9530 - val_loss: 3.1457 - val_accuracy: 0.5772\n",
      "Epoch 11/15\n",
      "500/500 [==============================] - 23s 47ms/step - loss: 0.1694 - accuracy: 0.9455 - val_loss: 0.5549 - val_accuracy: 0.55461s\n",
      "Epoch 12/15\n",
      "500/500 [==============================] - 23s 47ms/step - loss: 0.1427 - accuracy: 0.9510 - val_loss: 1.8696 - val_accuracy: 0.5596\n",
      "Epoch 13/15\n",
      "500/500 [==============================] - 17s 34ms/step - loss: 0.1470 - accuracy: 0.9457 - val_loss: 4.1010 - val_accuracy: 0.5471\n",
      "Epoch 14/15\n",
      "500/500 [==============================] - 19s 37ms/step - loss: 0.0927 - accuracy: 0.9685 - val_loss: 5.1346 - val_accuracy: 0.5772\n",
      "Epoch 15/15\n",
      "500/500 [==============================] - 24s 48ms/step - loss: 0.1392 - accuracy: 0.9517 - val_loss: 4.7259 - val_accuracy: 0.5445\n"
     ]
    }
   ],
   "source": [
    "from keras.callbacks import History\n",
    "valid_path='D:/flowers/valid'\n",
    "train_datagen=ImageDataGenerator(rescale=1./255)\n",
    "test_datagen=ImageDataGenerator(rescale=1./255)\n",
    "\n",
    "\n",
    "training_set=train_datagen.flow_from_directory(train_path,target_size=(32,32),batch_size=8,class_mode='categorical')\n",
    "\n",
    "testing_set=test_datagen.flow_from_directory(valid_path,target_size=(32,32),batch_size=8,class_mode='categorical')\n",
    "\n",
    "model_lenet.compile(optimizer='Adam',loss='categorical_crossentropy',metrics=['accuracy'])\n",
    "\n",
    "history=model_lenet.fit_generator(training_set,steps_per_epoch=500,epochs=15,validation_data=testing_set,validation_steps=100)\n",
    "\n",
    "model_lenet.save('model_lenet.h5')"
   ]
  },
  {
   "cell_type": "code",
   "execution_count": 53,
   "id": "fdd1df6f",
   "metadata": {},
   "outputs": [
    {
     "data": {
      "text/html": [
       "<div>\n",
       "<style scoped>\n",
       "    .dataframe tbody tr th:only-of-type {\n",
       "        vertical-align: middle;\n",
       "    }\n",
       "\n",
       "    .dataframe tbody tr th {\n",
       "        vertical-align: top;\n",
       "    }\n",
       "\n",
       "    .dataframe thead th {\n",
       "        text-align: right;\n",
       "    }\n",
       "</style>\n",
       "<table border=\"1\" class=\"dataframe\">\n",
       "  <thead>\n",
       "    <tr style=\"text-align: right;\">\n",
       "      <th></th>\n",
       "      <th>val_loss</th>\n",
       "      <th>val_accuracy</th>\n",
       "      <th>loss</th>\n",
       "      <th>accuracy</th>\n",
       "    </tr>\n",
       "  </thead>\n",
       "  <tbody>\n",
       "    <tr>\n",
       "      <th>0</th>\n",
       "      <td>1.546877</td>\n",
       "      <td>0.555000</td>\n",
       "      <td>0.178406</td>\n",
       "      <td>0.939470</td>\n",
       "    </tr>\n",
       "    <tr>\n",
       "      <th>1</th>\n",
       "      <td>6.920176</td>\n",
       "      <td>0.540778</td>\n",
       "      <td>0.123186</td>\n",
       "      <td>0.955500</td>\n",
       "    </tr>\n",
       "    <tr>\n",
       "      <th>2</th>\n",
       "      <td>1.529120</td>\n",
       "      <td>0.564617</td>\n",
       "      <td>0.165892</td>\n",
       "      <td>0.939970</td>\n",
       "    </tr>\n",
       "    <tr>\n",
       "      <th>3</th>\n",
       "      <td>3.428911</td>\n",
       "      <td>0.531995</td>\n",
       "      <td>0.160764</td>\n",
       "      <td>0.949237</td>\n",
       "    </tr>\n",
       "    <tr>\n",
       "      <th>4</th>\n",
       "      <td>3.330735</td>\n",
       "      <td>0.531995</td>\n",
       "      <td>0.158285</td>\n",
       "      <td>0.944750</td>\n",
       "    </tr>\n",
       "  </tbody>\n",
       "</table>\n",
       "</div>"
      ],
      "text/plain": [
       "   val_loss  val_accuracy      loss  accuracy\n",
       "0  1.546877      0.555000  0.178406  0.939470\n",
       "1  6.920176      0.540778  0.123186  0.955500\n",
       "2  1.529120      0.564617  0.165892  0.939970\n",
       "3  3.428911      0.531995  0.160764  0.949237\n",
       "4  3.330735      0.531995  0.158285  0.944750"
      ]
     },
     "execution_count": 53,
     "metadata": {},
     "output_type": "execute_result"
    }
   ],
   "source": [
    "# Checking the metrics of the model\n",
    "import pandas as pd\n",
    "metrics=pd.DataFrame(history.history)\n",
    "metrics.head()"
   ]
  },
  {
   "cell_type": "code",
   "execution_count": 178,
   "id": "faf461bb",
   "metadata": {},
   "outputs": [
    {
     "data": {
      "image/png": "[encoded data removed]",
      "text/plain": [
       "<Figure size 360x432 with 1 Axes>"
      ]
     },
     "metadata": {
      "needs_background": "light"
     },
     "output_type": "display_data"
    }
   ],
   "source": [
    "#Visualizing the training loss and validation loss\n",
    "plt_1=plt.subplots(figsize=(5,6))\n",
    "plt.title('Lenet Architecture',fontdict={'color':'blue','fontsize':20})\n",
    "sns.lineplot(np.arange(15),history.history['loss'],label='training_loss')\n",
    "sns.lineplot(np.arange(15),history.history['val_loss'],label='validation_loss')\n",
    "plt.legend()\n",
    "plt.show()"
   ]
  },
  {
   "cell_type": "code",
   "execution_count": 179,
   "id": "d0d5d765",
   "metadata": {},
   "outputs": [
    {
     "data": {
      "image/png": "[encoded data removed]",
      "text/plain": [
       "<Figure size 432x288 with 2 Axes>"
      ]
     },
     "metadata": {
      "needs_background": "light"
     },
     "output_type": "display_data"
    }
   ],
   "source": [
    "# Visualizing the metrics of Lenet Architecture\n",
    "fig, (ax1, ax2) = plt.subplots(1,2)\n",
    "ax1.plot(np.arange(15),history.history['loss'],label='training_loss')\n",
    "ax1.plot(np.arange(15),history.history['val_loss'],label='validation_loss')\n",
    "ax2.plot(np.arange(15),history.history['accuracy'],label='training_accuracy')\n",
    "ax2.plot(np.arange(15),history.history['val_accuracy'],label='validation_accuracy')\n",
    "ax1.legend(loc='best')\n",
    "ax2.legend(loc='best')\n",
    "plt.show()"
   ]
  },
  {
   "cell_type": "code",
   "execution_count": 159,
   "id": "21c6d30f",
   "metadata": {},
   "outputs": [
    {
     "name": "stdout",
     "output_type": "stream",
     "text": [
      "The prediction class is tulip\n"
     ]
    }
   ],
   "source": [
    "from keras.models import load_model\n",
    "test_image=image.load_img('C:/Users/Asif/OneDrive/Desktop/tulip-white-prince.jpg',target_size=(32,32))\n",
    "test_image=image.img_to_array(test_image)\n",
    "test_image=np.expand_dims(test_image,axis=0)\n",
    "model=load_model('model_lenet.h5')\n",
    "results=model.predict(test_image)\n",
    "\n",
    "if results[0][0]==1:\n",
    "    prediction='daisy'\n",
    "    print('The prediction class is {}'.format(prediction))\n",
    "elif results[0][1]==1:\n",
    "    prediction='dandelion'\n",
    "    print('The prediction class is {}'.format(prediction))\n",
    "elif results[0][2]==1:\n",
    "    prediction='rose'\n",
    "    print('The prediction class is {}'.format(prediction))\n",
    "elif results[0][3]==1:\n",
    "    prediction='sunflower'\n",
    "    print('The prediction class is {}'.format(prediction))\n",
    "elif results[0][4]==1:\n",
    "    prediction='tulip'\n",
    "    print('The prediction class is {}'.format(prediction))\n",
    "else:\n",
    "    prediction='unknown'\n",
    "    print('The prediction class is {}'.format(prediction))"
   ]
  },
  {
   "cell_type": "code",
   "execution_count": 121,
   "id": "ed70fe95",
   "metadata": {},
   "outputs": [],
   "source": [
    "#tulip - tulip correct prediction(1)\n",
    "#dandelion- sunflower wrong prediction(0)\n",
    "#sunflower - sunflower - correct prediction(1)\n",
    "#daisy - daisy - correct prediction(1)\n",
    "#dog - tulip -wrong prediction (0)\n",
    "#rose - rose - correct prediction(1)\n",
    "\n",
    "#drawbacks - not able to predict other images"
   ]
  },
  {
   "cell_type": "code",
   "execution_count": 122,
   "id": "6a85c2e5",
   "metadata": {},
   "outputs": [
    {
     "data": {
      "text/plain": [
       "0.6666666666666666"
      ]
     },
     "execution_count": 122,
     "metadata": {},
     "output_type": "execute_result"
    }
   ],
   "source": [
    "#Correct Prediction(Classified Correctly)\n",
    "4/6"
   ]
  },
  {
   "cell_type": "code",
   "execution_count": 123,
   "id": "439ce4a2",
   "metadata": {},
   "outputs": [
    {
     "data": {
      "text/plain": [
       "0.3333333333333333"
      ]
     },
     "execution_count": 123,
     "metadata": {},
     "output_type": "execute_result"
    }
   ],
   "source": [
    "#InCorrect Predictions(Classified InCorrectly)\n",
    "2/6"
   ]
  },
  {
   "cell_type": "code",
   "execution_count": 177,
   "id": "e2140a12",
   "metadata": {},
   "outputs": [
    {
     "data": {
      "image/png": "[encoded data removed]",
      "text/plain": [
       "<Figure size 864x792 with 1 Axes>"
      ]
     },
     "metadata": {
      "needs_background": "light"
     },
     "output_type": "display_data"
    }
   ],
   "source": [
    "#Visualizing the first conv layers\n",
    "fig,ax=plt.subplots(figsize=(12,11))\n",
    "arr=np.load('conv1dlenet.npy')\n",
    "plt.imshow(arr[0,:,:,1],cmap='gray',aspect='equal')\n",
    "plt.show()"
   ]
  },
  {
   "cell_type": "code",
   "execution_count": 161,
   "id": "3b567d22",
   "metadata": {},
   "outputs": [
    {
     "name": "stdout",
     "output_type": "stream",
     "text": [
      "Model: \"sequential_15\"\n",
      "_________________________________________________________________\n",
      "Layer (type)                 Output Shape              Param #   \n",
      "=================================================================\n",
      "conv2d_35 (Conv2D)           (None, 54, 54, 96)        34944     \n",
      "_________________________________________________________________\n",
      "max_pooling2d_28 (MaxPooling (None, 27, 27, 96)        0         \n",
      "_________________________________________________________________\n",
      "batch_normalization_8 (Batch (None, 27, 27, 96)        384       \n",
      "_________________________________________________________________\n",
      "conv2d_36 (Conv2D)           (None, 17, 17, 256)       2973952   \n",
      "_________________________________________________________________\n",
      "max_pooling2d_29 (MaxPooling (None, 8, 8, 256)         0         \n",
      "_________________________________________________________________\n",
      "batch_normalization_9 (Batch (None, 8, 8, 256)         1024      \n",
      "_________________________________________________________________\n",
      "conv2d_37 (Conv2D)           (None, 6, 6, 384)         885120    \n",
      "_________________________________________________________________\n",
      "batch_normalization_10 (Batc (None, 6, 6, 384)         1536      \n",
      "_________________________________________________________________\n",
      "conv2d_38 (Conv2D)           (None, 4, 4, 384)         1327488   \n",
      "_________________________________________________________________\n",
      "batch_normalization_11 (Batc (None, 4, 4, 384)         1536      \n",
      "_________________________________________________________________\n",
      "conv2d_39 (Conv2D)           (None, 2, 2, 256)         884992    \n",
      "_________________________________________________________________\n",
      "max_pooling2d_30 (MaxPooling (None, 1, 1, 256)         0         \n",
      "_________________________________________________________________\n",
      "batch_normalization_12 (Batc (None, 1, 1, 256)         1024      \n",
      "_________________________________________________________________\n",
      "flatten_13 (Flatten)         (None, 256)               0         \n",
      "_________________________________________________________________\n",
      "dense_37 (Dense)             (None, 2048)              526336    \n",
      "_________________________________________________________________\n",
      "dropout_11 (Dropout)         (None, 2048)              0         \n",
      "_________________________________________________________________\n",
      "batch_normalization_13 (Batc (None, 2048)              8192      \n",
      "_________________________________________________________________\n",
      "dense_38 (Dense)             (None, 2048)              4196352   \n",
      "_________________________________________________________________\n",
      "dropout_12 (Dropout)         (None, 2048)              0         \n",
      "_________________________________________________________________\n",
      "batch_normalization_14 (Batc (None, 2048)              8192      \n",
      "_________________________________________________________________\n",
      "dense_39 (Dense)             (None, 5)                 10245     \n",
      "=================================================================\n",
      "Total params: 10,861,317\n",
      "Trainable params: 10,850,373\n",
      "Non-trainable params: 10,944\n",
      "_________________________________________________________________\n"
     ]
    }
   ],
   "source": [
    "#Now moving on to AlexNet Architecture\n",
    "from keras.callbacks import History\n",
    "model_alexnet = Sequential()\n",
    "\n",
    "# 1st Convolutional Layer\n",
    "model_alexnet.add(Conv2D(filters=96, input_shape=(224,224,3), kernel_size=(11,11),strides=(4,4), padding='valid',activation='relu'))\n",
    "\n",
    "# Pooling \n",
    "model_alexnet.add(MaxPooling2D(pool_size=(2,2), strides=(2,2), padding='valid'))\n",
    "# Batch Normalisation before passing it to the next layer\n",
    "model_alexnet.add(BatchNormalization())\n",
    "\n",
    "# 2nd Convolutional Layer\n",
    "model_alexnet.add(Conv2D(filters=256, kernel_size=(11,11), strides=(1,1), padding='valid',activation='relu'))\n",
    "# Pooling\n",
    "model_alexnet.add(MaxPooling2D(pool_size=(2,2), strides=(2,2), padding='valid'))\n",
    "# Batch Normalisation\n",
    "model_alexnet.add(BatchNormalization())\n",
    "\n",
    "# 3rd Convolutional Layer\n",
    "model_alexnet.add(Conv2D(filters=384, kernel_size=(3,3), strides=(1,1), padding='valid',activation='relu'))\n",
    "# Batch Normalisation\n",
    "model_alexnet.add(BatchNormalization())\n",
    "\n",
    "# 4th Convolutional Layer\n",
    "model_alexnet.add(Conv2D(filters=384, kernel_size=(3,3), strides=(1,1), padding='valid',activation='relu'))\n",
    "# Batch Normalisation\n",
    "model_alexnet.add(BatchNormalization())\n",
    "\n",
    "# 5th Convolutional Layer\n",
    "model_alexnet.add(Conv2D(filters=256, kernel_size=(3,3), strides=(1,1), padding='valid',activation='relu'))\n",
    "# Pooling\n",
    "model_alexnet.add(MaxPooling2D(pool_size=(2,2), strides=(2,2), padding='valid'))\n",
    "# Batch Normalisation\n",
    "model_alexnet.add(BatchNormalization())\n",
    "\n",
    "# Passing it to a dense layer\n",
    "model_alexnet.add(Flatten())\n",
    "# 1st Dense Layer\n",
    "model_alexnet.add(Dense(2048, input_shape=(224*224*3,),activation='relu'))\n",
    "# Add Dropout to prevent overfitting\n",
    "model_alexnet.add(Dropout(0.4))\n",
    "# Batch Normalisation\n",
    "model_alexnet.add(BatchNormalization())\n",
    "\n",
    "# 2nd Dense Layer\n",
    "model_alexnet.add(Dense(2048,activation='relu'))\n",
    "# Add Dropout\n",
    "model_alexnet.add(Dropout(0.4))\n",
    "# Batch Normalisation\n",
    "model_alexnet.add(BatchNormalization())\n",
    "\n",
    "# 3rd Dense Layer\n",
    "#model.add(Dense(1000))\n",
    "#model.add(Activation('relu'))\n",
    "# Add Dropout\n",
    "#model.add(Dropout(0.4))\n",
    "# Batch Normalisation\n",
    "#model.add(BatchNormalization())\n",
    "\n",
    "# Output Layer\n",
    "model_alexnet.add(Dense(5,activation='softmax'))\n",
    "\n",
    "model_alexnet.summary()"
   ]
  },
  {
   "cell_type": "code",
   "execution_count": 144,
   "id": "767ec36e",
   "metadata": {},
   "outputs": [
    {
     "name": "stdout",
     "output_type": "stream",
     "text": [
      "Found 3471 images belonging to 5 classes.\n",
      "Found 845 images belonging to 5 classes.\n",
      "Epoch 1/10\n",
      "50/50 [==============================] - 69s 1s/step - loss: 2.1103 - accuracy: 0.2600 - val_loss: 2.5748 - val_accuracy: 0.2750\n",
      "Epoch 2/10\n",
      "50/50 [==============================] - 57s 1s/step - loss: 2.0208 - accuracy: 0.2125 - val_loss: 3.2243 - val_accuracy: 0.3000\n",
      "Epoch 3/10\n",
      "50/50 [==============================] - 56s 1s/step - loss: 2.0295 - accuracy: 0.2650 - val_loss: 1.8980 - val_accuracy: 0.1625\n",
      "Epoch 4/10\n",
      "50/50 [==============================] - 64s 1s/step - loss: 2.0598 - accuracy: 0.2180 - val_loss: 1.8884 - val_accuracy: 0.1500\n",
      "Epoch 5/10\n",
      "50/50 [==============================] - 63s 1s/step - loss: 1.8608 - accuracy: 0.2850 - val_loss: 2.4283 - val_accuracy: 0.2875\n",
      "Epoch 6/10\n",
      "50/50 [==============================] - 57s 1s/step - loss: 1.8680 - accuracy: 0.3525 - val_loss: 2.4997 - val_accuracy: 0.2750\n",
      "Epoch 7/10\n",
      "50/50 [==============================] - 57s 1s/step - loss: 1.7573 - accuracy: 0.2925 - val_loss: 2.1580 - val_accuracy: 0.2625\n",
      "Epoch 8/10\n",
      "50/50 [==============================] - 57s 1s/step - loss: 1.7682 - accuracy: 0.3275 - val_loss: 1.8131 - val_accuracy: 0.3500\n",
      "Epoch 9/10\n",
      "50/50 [==============================] - 59s 1s/step - loss: 1.7020 - accuracy: 0.3675 - val_loss: 1.6844 - val_accuracy: 0.3125\n",
      "Epoch 10/10\n",
      "50/50 [==============================] - 62s 1s/step - loss: 1.7737 - accuracy: 0.3325 - val_loss: 2.5188 - val_accuracy: 0.3000\n"
     ]
    }
   ],
   "source": [
    "model_alexnet.compile(optimizer='Adam',loss='categorical_crossentropy',metrics=['accuracy'])\n",
    "\n",
    "training_set_alexnet=train_datagen.flow_from_directory(train_path,target_size=(224,224),batch_size=8,class_mode='categorical')\n",
    "\n",
    "testing_set_alexnet=test_datagen.flow_from_directory(valid_path,target_size=(224,224),batch_size=8,class_mode='categorical')\n",
    "\n",
    "\n",
    "history_alexnet=model_alexnet.fit_generator(training_set_alexnet,steps_per_epoch=50,epochs=10,validation_data=testing_set_alexnet,validation_steps=10)\n",
    "\n",
    "model_alexnet.save('model_alexnet.h5')"
   ]
  },
  {
   "cell_type": "code",
   "execution_count": 148,
   "id": "d673c6ea",
   "metadata": {},
   "outputs": [
    {
     "data": {
      "text/html": [
       "<div>\n",
       "<style scoped>\n",
       "    .dataframe tbody tr th:only-of-type {\n",
       "        vertical-align: middle;\n",
       "    }\n",
       "\n",
       "    .dataframe tbody tr th {\n",
       "        vertical-align: top;\n",
       "    }\n",
       "\n",
       "    .dataframe thead th {\n",
       "        text-align: right;\n",
       "    }\n",
       "</style>\n",
       "<table border=\"1\" class=\"dataframe\">\n",
       "  <thead>\n",
       "    <tr style=\"text-align: right;\">\n",
       "      <th></th>\n",
       "      <th>val_loss</th>\n",
       "      <th>val_accuracy</th>\n",
       "      <th>loss</th>\n",
       "      <th>accuracy</th>\n",
       "    </tr>\n",
       "  </thead>\n",
       "  <tbody>\n",
       "    <tr>\n",
       "      <th>0</th>\n",
       "      <td>1.546877</td>\n",
       "      <td>0.555000</td>\n",
       "      <td>0.178406</td>\n",
       "      <td>0.939470</td>\n",
       "    </tr>\n",
       "    <tr>\n",
       "      <th>1</th>\n",
       "      <td>6.920176</td>\n",
       "      <td>0.540778</td>\n",
       "      <td>0.123186</td>\n",
       "      <td>0.955500</td>\n",
       "    </tr>\n",
       "    <tr>\n",
       "      <th>2</th>\n",
       "      <td>1.529120</td>\n",
       "      <td>0.564617</td>\n",
       "      <td>0.165892</td>\n",
       "      <td>0.939970</td>\n",
       "    </tr>\n",
       "    <tr>\n",
       "      <th>3</th>\n",
       "      <td>3.428911</td>\n",
       "      <td>0.531995</td>\n",
       "      <td>0.160764</td>\n",
       "      <td>0.949237</td>\n",
       "    </tr>\n",
       "    <tr>\n",
       "      <th>4</th>\n",
       "      <td>3.330735</td>\n",
       "      <td>0.531995</td>\n",
       "      <td>0.158285</td>\n",
       "      <td>0.944750</td>\n",
       "    </tr>\n",
       "    <tr>\n",
       "      <th>5</th>\n",
       "      <td>4.120792</td>\n",
       "      <td>0.557089</td>\n",
       "      <td>0.140771</td>\n",
       "      <td>0.947974</td>\n",
       "    </tr>\n",
       "    <tr>\n",
       "      <th>6</th>\n",
       "      <td>3.298672</td>\n",
       "      <td>0.549561</td>\n",
       "      <td>0.182518</td>\n",
       "      <td>0.932966</td>\n",
       "    </tr>\n",
       "    <tr>\n",
       "      <th>7</th>\n",
       "      <td>1.169541</td>\n",
       "      <td>0.567127</td>\n",
       "      <td>0.142637</td>\n",
       "      <td>0.950988</td>\n",
       "    </tr>\n",
       "    <tr>\n",
       "      <th>8</th>\n",
       "      <td>0.420531</td>\n",
       "      <td>0.526976</td>\n",
       "      <td>0.136693</td>\n",
       "      <td>0.955750</td>\n",
       "    </tr>\n",
       "    <tr>\n",
       "      <th>9</th>\n",
       "      <td>3.145749</td>\n",
       "      <td>0.577164</td>\n",
       "      <td>0.136676</td>\n",
       "      <td>0.952976</td>\n",
       "    </tr>\n",
       "    <tr>\n",
       "      <th>10</th>\n",
       "      <td>0.554921</td>\n",
       "      <td>0.554580</td>\n",
       "      <td>0.169380</td>\n",
       "      <td>0.945486</td>\n",
       "    </tr>\n",
       "    <tr>\n",
       "      <th>11</th>\n",
       "      <td>1.869637</td>\n",
       "      <td>0.559599</td>\n",
       "      <td>0.142663</td>\n",
       "      <td>0.951000</td>\n",
       "    </tr>\n",
       "    <tr>\n",
       "      <th>12</th>\n",
       "      <td>4.101041</td>\n",
       "      <td>0.547051</td>\n",
       "      <td>0.147088</td>\n",
       "      <td>0.945723</td>\n",
       "    </tr>\n",
       "    <tr>\n",
       "      <th>13</th>\n",
       "      <td>5.134612</td>\n",
       "      <td>0.577164</td>\n",
       "      <td>0.092729</td>\n",
       "      <td>0.968492</td>\n",
       "    </tr>\n",
       "    <tr>\n",
       "      <th>14</th>\n",
       "      <td>4.725871</td>\n",
       "      <td>0.544542</td>\n",
       "      <td>0.138996</td>\n",
       "      <td>0.951738</td>\n",
       "    </tr>\n",
       "  </tbody>\n",
       "</table>\n",
       "</div>"
      ],
      "text/plain": [
       "    val_loss  val_accuracy      loss  accuracy\n",
       "0   1.546877      0.555000  0.178406  0.939470\n",
       "1   6.920176      0.540778  0.123186  0.955500\n",
       "2   1.529120      0.564617  0.165892  0.939970\n",
       "3   3.428911      0.531995  0.160764  0.949237\n",
       "4   3.330735      0.531995  0.158285  0.944750\n",
       "5   4.120792      0.557089  0.140771  0.947974\n",
       "6   3.298672      0.549561  0.182518  0.932966\n",
       "7   1.169541      0.567127  0.142637  0.950988\n",
       "8   0.420531      0.526976  0.136693  0.955750\n",
       "9   3.145749      0.577164  0.136676  0.952976\n",
       "10  0.554921      0.554580  0.169380  0.945486\n",
       "11  1.869637      0.559599  0.142663  0.951000\n",
       "12  4.101041      0.547051  0.147088  0.945723\n",
       "13  5.134612      0.577164  0.092729  0.968492\n",
       "14  4.725871      0.544542  0.138996  0.951738"
      ]
     },
     "execution_count": 148,
     "metadata": {},
     "output_type": "execute_result"
    }
   ],
   "source": [
    "metrics_alexnet=pd.DataFrame(history_alexnet.history)\n",
    "metrics"
   ]
  },
  {
   "cell_type": "code",
   "execution_count": 149,
   "id": "ca754225",
   "metadata": {},
   "outputs": [
    {
     "data": {
      "image/png": "[encoded data removed]",
      "text/plain": [
       "<Figure size 432x288 with 2 Axes>"
      ]
     },
     "metadata": {
      "needs_background": "light"
     },
     "output_type": "display_data"
    }
   ],
   "source": [
    "#Visualizing the training loss and validation loss\n",
    "fig, (ax1, ax2) = plt.subplots(1,2)\n",
    "ax1.plot(np.arange(10),history_alexnet.history['loss'],label='training_loss')\n",
    "ax1.plot(np.arange(10),history_alexnet.history['val_loss'],label='validation_loss')\n",
    "ax2.plot(np.arange(10),history_alexnet.history['accuracy'],label='training_accuracy')\n",
    "ax2.plot(np.arange(10),history_alexnet.history['val_accuracy'],label='validation_accuracy')\n",
    "ax1.legend(loc='best')\n",
    "ax2.legend(loc='best')\n",
    "plt.show()"
   ]
  },
  {
   "cell_type": "code",
   "execution_count": null,
   "id": "c88e6634",
   "metadata": {},
   "outputs": [],
   "source": []
  },
  {
   "cell_type": "code",
   "execution_count": null,
   "id": "f9b92697",
   "metadata": {},
   "outputs": [],
   "source": []
  },
  {
   "cell_type": "code",
   "execution_count": null,
   "id": "0ee41dda",
   "metadata": {},
   "outputs": [],
   "source": []
  },
  {
   "cell_type": "code",
   "execution_count": null,
   "id": "3dd0817c",
   "metadata": {},
   "outputs": [],
   "source": []
  }
 ],
 "metadata": {
  "kernelspec": {
   "display_name": "Python 3",
   "language": "python",
   "name": "python3"
  },
  "language_info": {
   "codemirror_mode": {
    "name": "ipython",
    "version": 3
   },
   "file_extension": ".py",
   "mimetype": "text/x-python",
   "name": "python",
   "nbconvert_exporter": "python",
   "pygments_lexer": "ipython3",
   "version": "3.6.9"
  }
 },
 "nbformat": 4,
 "nbformat_minor": 5
}
